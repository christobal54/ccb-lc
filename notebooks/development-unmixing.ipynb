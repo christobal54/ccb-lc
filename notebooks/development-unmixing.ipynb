{
 "cells": [
  {
   "cell_type": "markdown",
   "metadata": {},
   "source": [
    "### Section 0: Loading packages and testing earth engine connection"
   ]
  },
  {
   "cell_type": "code",
   "execution_count": null,
   "metadata": {},
   "outputs": [],
   "source": [
    "%load_ext autoreload\n",
    "%autoreload 2"
   ]
  },
  {
   "cell_type": "code",
   "execution_count": null,
   "metadata": {},
   "outputs": [],
   "source": [
    "import ee\n",
    "import ccblc\n",
    "import folium"
   ]
  },
  {
   "cell_type": "code",
   "execution_count": null,
   "metadata": {},
   "outputs": [],
   "source": [
    "%reload_ext ccblc"
   ]
  },
  {
   "cell_type": "code",
   "execution_count": null,
   "metadata": {},
   "outputs": [],
   "source": [
    "# authenticate earth engine api access (not required on every run)\n",
    "ee.Authenticate()"
   ]
  },
  {
   "cell_type": "code",
   "execution_count": null,
   "metadata": {},
   "outputs": [],
   "source": [
    "# initialize earth engine api access (required on every run)\n",
    "ee.Initialize()"
   ]
  },
  {
   "cell_type": "code",
   "execution_count": null,
   "metadata": {},
   "outputs": [],
   "source": [
    "# test whether the initialization was successful by printing the elevation of Mount Everest\n",
    "dem = ee.Image('USGS/SRTMGL1_003')\n",
    "xy = ee.Geometry.Point([86.9250, 27.9881])\n",
    "elev = dem.sample(xy, 30).first().get('elevation').getInfo()\n",
    "print('Mount Everest elevation (m):', elev)"
   ]
  },
  {
   "cell_type": "markdown",
   "metadata": {},
   "source": [
    "### Section 1: unmixing one image"
   ]
  },
  {
   "cell_type": "code",
   "execution_count": null,
   "metadata": {},
   "outputs": [],
   "source": [
    "# select the sensor to use\n",
    "sensor = 'Landsat8'\n",
    "collectionName = ccblc.getCollection(sensor)\n",
    "bands = ccblc.getBands(sensor)\n",
    "scaler = ccblc.getScaler(sensor)\n",
    "maskFunction = ccblc.Mask.bySensor(sensor)\n",
    "visBands = [\"B6\", \"B5\", \"B4\"]\n",
    "\n",
    "# set the dates\n",
    "startDate = \"2020-07-01\";\n",
    "endDate = \"2020-11-01\";\n",
    "\n",
    "# get a land mask to use\n",
    "land = ee.Image(\"UMD/hansen/global_forest_change_2019_v1_7\").select([\"datamask\"]).eq(1)\n",
    "\n",
    "# create and filter the image collection\n",
    "collection = ee.ImageCollection(collectionName).filterDate(startDate, endDate).map(maskFunction).select(bands)"
   ]
  },
  {
   "cell_type": "code",
   "execution_count": null,
   "metadata": {},
   "outputs": [],
   "source": [
    "# create a composite\n",
    "sr = collection.median().multiply(scaler).updateMask(land)\n",
    "\n",
    "# map it\n",
    "folium.Map.addLayer = ccblc.Map.addLayer\n",
    "\n",
    "# Set visualization parameters.\n",
    "visParams = {\n",
    "  'min': 0,\n",
    "  'max': 0.35,\n",
    "  'bands': visBands\n",
    "}\n",
    "\n",
    "# Create a folium map object.\n",
    "Map = folium.Map(location=[37.5, -118], zoom_start=6, height=500)\n",
    "\n",
    "# Add the image to the map object.\n",
    "Map.addLayer(sr, visParams, 'S2')\n",
    "\n",
    "# Add a layer control panel to the map.\n",
    "Map.add_child(folium.LayerControl())\n",
    "\n",
    "# Display the map.\n",
    "display(Map)"
   ]
  },
  {
   "cell_type": "markdown",
   "metadata": {},
   "source": [
    "now we'll actually unmix the image using the first spectra from each bundle"
   ]
  },
  {
   "cell_type": "code",
   "execution_count": null,
   "metadata": {},
   "outputs": [],
   "source": [
    "# initialize the spectral bundle selection\n",
    "ccblc.Unmix.setSensor(sensor)\n",
    "\n",
    "# unmix the thing\n",
    "unmixed = ccblc.Unmix.SVN(sr).updateMask(land)\n",
    "\n",
    "# map it\n",
    "visParams = {'min': [0, 0.1, 0], 'max': [0.8, 1, 0.8]}\n",
    "Map = folium.Map(location=[37.5, -118], zoom_start=6, height=500)\n",
    "Map.addLayer(unmixed, visParams, 'unmixed')\n",
    "Map.add_child(folium.LayerControl())\n",
    "display(Map)"
   ]
  }
 ],
 "metadata": {
  "kernelspec": {
   "display_name": "Python 3",
   "language": "python",
   "name": "python3"
  },
  "language_info": {
   "codemirror_mode": {
    "name": "ipython",
    "version": 3
   },
   "file_extension": ".py",
   "mimetype": "text/x-python",
   "name": "python",
   "nbconvert_exporter": "python",
   "pygments_lexer": "ipython3",
   "version": "3.7.6"
  }
 },
 "nbformat": 4,
 "nbformat_minor": 4
}
